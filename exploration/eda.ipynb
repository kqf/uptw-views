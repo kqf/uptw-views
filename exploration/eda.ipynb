{
 "cells": [
  {
   "cell_type": "markdown",
   "metadata": {},
   "source": [
    "### Explanation\n",
    "\n",
    "The idea was to hack the problem by means of classification (classify the watched/unwatched coloumn to find important features) but this didn't work.\n",
    "Therefore moving to manual analysis of the data."
   ]
  },
  {
   "cell_type": "code",
   "execution_count": null,
   "metadata": {},
   "outputs": [],
   "source": [
    "!pip install -e ../"
   ]
  },
  {
   "cell_type": "code",
   "execution_count": null,
   "metadata": {},
   "outputs": [],
   "source": [
    "import pandas as pd\n",
    "from model.model import read_raw\n",
    "from scipy import stats"
   ]
  },
  {
   "cell_type": "code",
   "execution_count": 2,
   "metadata": {},
   "outputs": [],
   "source": [
    "raw = read_raw(\"../data/test_data.csv\", \"../data/viewer_data.csv\", use_medians=False)\n",
    "raw.info()"
   ]
  },
  {
   "cell_type": "code",
   "execution_count": 3,
   "metadata": {},
   "outputs": [],
   "source": [
    "raw"
   ]
  },
  {
   "cell_type": "code",
   "execution_count": 4,
   "metadata": {},
   "outputs": [
    {
     "data": {
      "text/plain": [
       "array([[<matplotlib.axes._subplots.AxesSubplot object at 0x11bc29898>,\n",
       "        <matplotlib.axes._subplots.AxesSubplot object at 0x11bce4b00>],\n",
       "       [<matplotlib.axes._subplots.AxesSubplot object at 0x11bd11e80>,\n",
       "        <matplotlib.axes._subplots.AxesSubplot object at 0x11bd43438>]],\n",
       "      dtype=object)"
      ]
     },
     "execution_count": 4,
     "metadata": {},
     "output_type": "execute_result"
    }
   ],
   "source": [
    "# Check target distributions\n",
    "raw[[\"test\", \"watched\", \"total_time_watched\"]].hist(figsize=(12, 10))"
   ]
  },
  {
   "cell_type": "code",
   "execution_count": 5,
   "metadata": {},
   "outputs": [
    {
     "name": "stdout",
     "output_type": "stream",
     "text": [
      "Fraction of people with personalized ad  0.4102271730549952,\n",
      "fraction of people with the standard ad 0.5897728269450048\n"
     ]
    }
   ],
   "source": [
    "# Let's reproduce the result of the experiment\n",
    "\n",
    "n_watched = raw[raw[\"watched\"] == 1].shape[0]\n",
    "\n",
    "all_watched = raw[raw[\"watched\"] == 1]\n",
    "n_personalized_watched = all_watched[all_watched['test'] == 1].shape[0]\n",
    "n_standard_watched = all_watched[all_watched['test'] == 0].shape[0]\n",
    "\n",
    "print(f\"Fraction of people with personalized ad  {n_personalized_watched / n_watched},\\nfraction of people with the standard ad {n_standard_watched / n_watched}\")"
   ]
  },
  {
   "cell_type": "markdown",
   "metadata": {},
   "source": [
    "At the first glance it really looks like we have the negative effect"
   ]
  },
  {
   "cell_type": "code",
   "execution_count": 6,
   "metadata": {},
   "outputs": [],
   "source": [
    "# Error propagation formula assuming that cov(a, b) = 0\n",
    "\n",
    "def error(a, b):\n",
    "    da, db = a ** 0.5, b ** 0.5\n",
    "    error_squared = ((da / a) ** 2 + (db / b) ** 2) * (a / b) ** 2 \n",
    "    return error_squared ** 0.5\n"
   ]
  },
  {
   "cell_type": "code",
   "execution_count": 7,
   "metadata": {},
   "outputs": [
    {
     "data": {
      "text/html": [
       "<div>\n",
       "<style scoped>\n",
       "    .dataframe tbody tr th:only-of-type {\n",
       "        vertical-align: middle;\n",
       "    }\n",
       "\n",
       "    .dataframe tbody tr th {\n",
       "        vertical-align: top;\n",
       "    }\n",
       "\n",
       "    .dataframe thead th {\n",
       "        text-align: right;\n",
       "    }\n",
       "</style>\n",
       "<table border=\"1\" class=\"dataframe\">\n",
       "  <thead>\n",
       "    <tr style=\"text-align: right;\">\n",
       "      <th></th>\n",
       "      <th>fraction</th>\n",
       "      <th>fraction_error</th>\n",
       "    </tr>\n",
       "  </thead>\n",
       "  <tbody>\n",
       "    <tr>\n",
       "      <th>personalized</th>\n",
       "      <td>0.410227</td>\n",
       "      <td>0.005037</td>\n",
       "    </tr>\n",
       "    <tr>\n",
       "      <th>standard</th>\n",
       "      <td>0.589773</td>\n",
       "      <td>0.006412</td>\n",
       "    </tr>\n",
       "  </tbody>\n",
       "</table>\n",
       "</div>"
      ],
      "text/plain": [
       "              fraction  fraction_error\n",
       "personalized  0.410227        0.005037\n",
       "standard      0.589773        0.006412"
      ]
     },
     "execution_count": 7,
     "metadata": {},
     "output_type": "execute_result"
    }
   ],
   "source": [
    "pd.DataFrame({\n",
    "    \"fraction\": [n_personalized_watched / n_watched, n_standard_watched / n_watched],\n",
    "    \"fraction_error\": [error(n_personalized_watched, n_watched), error(n_standard_watched, n_watched)]\n",
    "},\n",
    "    index=[\"personalized\", \"standard\"]\n",
    ")"
   ]
  },
  {
   "cell_type": "markdown",
   "metadata": {},
   "source": [
    "so the result seems to be consistent"
   ]
  },
  {
   "cell_type": "code",
   "execution_count": 8,
   "metadata": {},
   "outputs": [
    {
     "name": "stdout",
     "output_type": "stream",
     "text": [
      "Total LA viewers 0.1256213728332688%\n",
      "Fraction of people with personalized ad  0.5378953421506613,\n",
      "fraction of people with the standard ad 0.4621046578493387\n"
     ]
    }
   ],
   "source": [
    "## The main idea was to exclude Los Angeles from the target as it spoils our experiment\n",
    "\n",
    "non_la = raw[raw[\"city\"] != \"Los Angeles\"]\n",
    "print(f\"Total LA viewers {1. - len(non_la) / len(raw)}%\")\n",
    "n_watched = non_la[non_la[\"watched\"] == 1].shape[0]\n",
    "\n",
    "all_watched = non_la[non_la[\"watched\"] == 1]\n",
    "n_personalized_watched = all_watched[all_watched['test'] == 1].shape[0]\n",
    "n_standard_watched = all_watched[all_watched['test'] == 0].shape[0]\n",
    "\n",
    "print(f\"Fraction of people with personalized ad  {n_personalized_watched / n_watched},\\nfraction of people with the standard ad {n_standard_watched / n_watched}\")"
   ]
  },
  {
   "cell_type": "markdown",
   "metadata": {},
   "source": [
    "There 12.5% of LA viewers in the original dataset and this biases our result"
   ]
  },
  {
   "cell_type": "code",
   "execution_count": 9,
   "metadata": {},
   "outputs": [
    {
     "data": {
      "text/plain": [
       "Ttest_indResult(statistic=5.747810007093332, pvalue=9.047829370790548e-09)"
      ]
     },
     "execution_count": 9,
     "metadata": {},
     "output_type": "execute_result"
    }
   ],
   "source": [
    "# Let's try simple t-test to understand the problem\n",
    "standard = non_la[non_la['test'] == 0]['watched']\n",
    "personalized_ad = non_la[non_la['test'] == 1]['watched']\n",
    "stats.ttest_ind(standard, personalized_ad)"
   ]
  },
  {
   "cell_type": "markdown",
   "metadata": {},
   "source": [
    "t-test shows that the null hypothesis that outcomes come from the same distribution is not true. But that check is redundant."
   ]
  },
  {
   "cell_type": "markdown",
   "metadata": {},
   "source": [
    "### Some thoguhts at the end\n",
    "\n",
    "- It's possible to reproduce the experiment\n",
    "- One of the flaws of this clculation was including LA to the dataset.\n",
    "- This algorithm has a big problem. It's difficult to compare influence of this ad as LA Mayor may be interesting for  people from other large cities.\n",
    "\n",
    "\n",
    "PS: I think next time I should read the task more carefully as 80% of the time i spent fighting unexistent problem\n",
    "\n"
   ]
  },
  {
   "cell_type": "code",
   "execution_count": null,
   "metadata": {},
   "outputs": [],
   "source": []
  }
 ],
 "metadata": {
  "kernelspec": {
   "display_name": "Python 3",
   "language": "python",
   "name": "python3"
  },
  "language_info": {
   "codemirror_mode": {
    "name": "ipython",
    "version": 3
   },
   "file_extension": ".py",
   "mimetype": "text/x-python",
   "name": "python",
   "nbconvert_exporter": "python",
   "pygments_lexer": "ipython3",
   "version": "3.6.3"
  }
 },
 "nbformat": 4,
 "nbformat_minor": 2
}
